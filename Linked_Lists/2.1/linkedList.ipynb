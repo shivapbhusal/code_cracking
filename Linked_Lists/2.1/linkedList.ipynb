{
 "cells": [
  {
   "cell_type": "code",
   "execution_count": 1,
   "metadata": {
    "collapsed": true
   },
   "outputs": [],
   "source": [
    "# Python implementation of Singly Linked Lists\n",
    "\n",
    "class Node():\n",
    "    def __init__(self, data):\n",
    "        self.data = data\n",
    "        self.next_node = None\n",
    "\n",
    "    def get_data(self):\n",
    "        return self.data\n",
    "\n",
    "    def get_next(self):\n",
    "        return self.next_node\n",
    "\n",
    "    def set_next(self, new_next):\n",
    "        self.next_node = new_next\n",
    "\n",
    "\n",
    "class LinkedList():\n",
    "    def __init__(self, head=None):\n",
    "        self.head = head\n",
    "\n",
    "    def insert(self, data):\n",
    "        new_node = Node(data)\n",
    "        new_node.set_next(self.head)\n",
    "        self.head = new_node\n",
    "\n",
    "    def size(self):\n",
    "        size = 0\n",
    "        current = self.head\n",
    "        while (current != None):\n",
    "            current = current.get_next()\n",
    "            size = size + 1\n",
    "        return size\n",
    "\n",
    "    def delete(self, value):\n",
    "        current=self.head\n",
    "        prev=current\n",
    "        while (current!=None):\n",
    "            if current.get_data()==value:\n",
    "                prev.set_next(current.get_next())\n",
    "                return None \n",
    "            prev=current \n",
    "            current=current.get_next() \n",
    "\n",
    "    def read(self):\n",
    "        current = self.head\n",
    "        while (current != None):\n",
    "            print(current.get_data())\n",
    "            current = current.get_next()\n"
   ]
  },
  {
   "cell_type": "code",
   "execution_count": 2,
   "metadata": {
    "collapsed": true
   },
   "outputs": [],
   "source": [
    "L=LinkedList()\n",
    "\n",
    "for i in range(10):\n",
    "    L.insert(i)\n",
    "\n",
    "for i in range(5):\n",
    "\tL.insert(i)\n"
   ]
  },
  {
   "cell_type": "code",
   "execution_count": 3,
   "metadata": {},
   "outputs": [
    {
     "name": "stdout",
     "output_type": "stream",
     "text": [
      "<__main__.LinkedList object at 0x7f63d571b2e8>\n"
     ]
    }
   ],
   "source": [
    "print(L)"
   ]
  },
  {
   "cell_type": "code",
   "execution_count": 4,
   "metadata": {},
   "outputs": [
    {
     "name": "stdout",
     "output_type": "stream",
     "text": [
      "4\n",
      "3\n",
      "2\n",
      "1\n",
      "0\n",
      "9\n",
      "8\n",
      "7\n",
      "6\n",
      "5\n",
      "4\n",
      "3\n",
      "2\n",
      "1\n",
      "0\n"
     ]
    }
   ],
   "source": [
    "L.read()"
   ]
  },
  {
   "cell_type": "code",
   "execution_count": 5,
   "metadata": {},
   "outputs": [
    {
     "name": "stdout",
     "output_type": "stream",
     "text": [
      "4\n",
      "9\n",
      "8\n",
      "7\n",
      "6\n",
      "5\n",
      "4\n",
      "3\n",
      "2\n",
      "1\n",
      "0\n"
     ]
    }
   ],
   "source": [
    "current=L.head  \n",
    "temp_buffer=[] \n",
    "prev=None \n",
    "\n",
    "while (current):\n",
    "\tif current.get_data() in temp_buffer:\n",
    "\t\tL.delete(current.get_data())\n",
    "\telse:\n",
    "\t\ttemp_buffer.append(current.get_data())\n",
    "\t\t\n",
    "\tprev=current\n",
    "\tcurrent=current.get_next() \n",
    "\n",
    "L.read()\n"
   ]
  },
  {
   "cell_type": "code",
   "execution_count": null,
   "metadata": {
    "collapsed": true
   },
   "outputs": [],
   "source": []
  }
 ],
 "metadata": {
  "kernelspec": {
   "display_name": "Python 3",
   "language": "python",
   "name": "python3"
  },
  "language_info": {
   "codemirror_mode": {
    "name": "ipython",
    "version": 3
   },
   "file_extension": ".py",
   "mimetype": "text/x-python",
   "name": "python",
   "nbconvert_exporter": "python",
   "pygments_lexer": "ipython3",
   "version": "3.6.2"
  }
 },
 "nbformat": 4,
 "nbformat_minor": 2
}
